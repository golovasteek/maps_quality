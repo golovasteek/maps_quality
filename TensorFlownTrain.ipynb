{
 "cells": [
  {
   "cell_type": "code",
   "execution_count": 1,
   "metadata": {},
   "outputs": [
    {
     "name": "stdout",
     "output_type": "stream",
     "text": [
      "1.14.0\n"
     ]
    }
   ],
   "source": [
    "import tensorflow as tf\n",
    "from tensorflow.python.ops import init_ops\n",
    "from tensorflow.python import debug as tf_debug\n",
    "import numpy as np\n",
    "from scipy import misc\n",
    "import sys\n",
    "import random\n",
    "import matplotlib.pyplot as plt\n",
    "from copy import deepcopy, copy\n",
    "import random\n",
    "import os\n",
    "import logging\n",
    "import pickle\n",
    "import cv2\n",
    "from datetime import datetime\n",
    "from tqdm import tqdm_notebook\n",
    "import tqdm\n",
    "%matplotlib inline\n",
    "print(tf.__version__)"
   ]
  },
  {
   "cell_type": "code",
   "execution_count": 2,
   "metadata": {},
   "outputs": [],
   "source": [
    "ADD_WRONG = False\n",
    "def get_cleaned_data():\n",
    "    empty = 0\n",
    "    total = 0\n",
    "    error = 0\n",
    "\n",
    "    images = []\n",
    "    for d, dirs, files in tqdm_notebook(list(os.walk('files/grayschema/18/'))):\n",
    "        for f in files:\n",
    "            total += 1\n",
    "            schema_path = os.path.join(d,f)\n",
    "            try:\n",
    "                if not os.path.isfile(schema_path):\n",
    "                    raise RuntimeError(\"{} doesn't exist\".format(schema_path))\n",
    "                img = cv2.imread(schema_path)\n",
    "                if (img <= 128).all():\n",
    "                    empty += 1\n",
    "                else:\n",
    "                    relpath = schema_path[len('files/grayschema/'):]\n",
    "                    sat_path = os.path.join('files/mapbox.satellite/', relpath)\n",
    "                    if not os.path.isfile(sat_path):\n",
    "                        raise RuntimeError(\"{} doesn't exist\".format(sat_path))\n",
    "                    cv2.imread(sat_path)\n",
    "                    images.append(relpath)\n",
    "            except Exception as e:\n",
    "                print(e)\n",
    "                error += 1\n",
    "    \n",
    "    print(\"Total {}, empty {} {:.2%}, error {}\".format(\n",
    "        total,\n",
    "        empty, empty * 1.0/ total,\n",
    "        error))\n",
    "    \n",
    "    data = []\n",
    "    shuffled_images = copy(images)\n",
    "    random.shuffle(shuffled_images)\n",
    "    for p ,wp in zip(images, shuffled_images):\n",
    "        data.append((os.path.join('files/mapbox.satellite/', p),\n",
    "            os.path.join('files/grayschema/', p), 1, 0))\n",
    "        if ADD_WRONG:\n",
    "            data.append((os.path.join('files/mapbox.satellite/', p),\n",
    "                os.path.join('files/grayschema/', wp), 0, 1))\n",
    "    random.shuffle(data)\n",
    "        \n",
    "    sat_file_paths = []\n",
    "    schema_file_paths = []\n",
    "    labels = []\n",
    "    for item in data:\n",
    "        sat_file_paths.append(item[0])\n",
    "        schema_file_paths.append(item[1])\n",
    "        labels.append(item[2:4])\n",
    "\n",
    "    return sat_file_paths, schema_file_paths, labels"
   ]
  },
  {
   "cell_type": "code",
   "execution_count": 3,
   "metadata": {},
   "outputs": [],
   "source": [
    "# sat_file_paths, schema_file_paths, labels = get_cleaned_data()\n",
    "# with open(\"cleaned_data.pickle\", \"wb+\") as f:\n",
    "#     pickle.dump((sat_file_paths, schema_file_paths, labels), f)"
   ]
  },
  {
   "cell_type": "code",
   "execution_count": 4,
   "metadata": {},
   "outputs": [],
   "source": [
    "with open(\"cleaned_data.pickle\", \"rb\") as f:\n",
    "    sat_file_paths, schema_file_paths, labels = pickle.load(f)"
   ]
  },
  {
   "cell_type": "code",
   "execution_count": 5,
   "metadata": {},
   "outputs": [
    {
     "name": "stdout",
     "output_type": "stream",
     "text": [
      "1243 11808 11809\n"
     ]
    }
   ],
   "source": [
    "def splittvt(arr, frac):\n",
    "    count = len(arr)\n",
    "    valid_start = int(count * (1-2*frac))\n",
    "    test_start = int(count * (1-frac))\n",
    "    return arr[:valid_start], arr[valid_start: test_start], arr[test_start:]\n",
    "\n",
    "TST_FRAC = 0.475\n",
    "train_sat_paths, valid_sat_paths, test_sat_paths = splittvt(sat_file_paths, TST_FRAC)\n",
    "train_map_paths, valid_map_paths, test_map_paths = splittvt(schema_file_paths, TST_FRAC)\n",
    "train_labels, valid_labels, test_labels = splittvt(labels, TST_FRAC)\n",
    "print(len(train_sat_paths), len(valid_sat_paths), len(test_sat_paths))"
   ]
  },
  {
   "cell_type": "code",
   "execution_count": 6,
   "metadata": {},
   "outputs": [],
   "source": [
    "IMG_SIZE = 256\n",
    "batch_size = 32\n",
    "l1_weight = 100\n",
    "DF_DIM = 64\n",
    "\n",
    "def read_img(path, f):\n",
    "    if f == 'png':\n",
    "        return tf.cast(tf.image.decode_png(tf.read_file(path), channels=1), tf.float32)\n",
    "    else:\n",
    "        return tf.cast(tf.image.decode_jpeg(tf.read_file(path)), tf.float32)"
   ]
  },
  {
   "cell_type": "code",
   "execution_count": 7,
   "metadata": {},
   "outputs": [
    {
     "name": "stderr",
     "output_type": "stream",
     "text": [
      "WARNING: Logging before flag parsing goes to stderr.\n",
      "W1022 06:08:58.467499 139754401052480 deprecation.py:323] From <ipython-input-7-77f0e54e6021>:17: batch_normalization (from tensorflow.python.layers.normalization) is deprecated and will be removed in a future version.\n",
      "Instructions for updating:\n",
      "Use keras.layers.BatchNormalization instead.  In particular, `tf.control_dependencies(tf.GraphKeys.UPDATE_OPS)` should not be used (consult the `tf.keras.layers.batch_normalization` documentation).\n"
     ]
    },
    {
     "name": "stdout",
     "output_type": "stream",
     "text": [
      "Map imgs, shape (32, ?, ?, 1)\n",
      "Sat imgs, shape (32, ?, ?, ?)\n"
     ]
    },
    {
     "name": "stderr",
     "output_type": "stream",
     "text": [
      "W1022 06:08:59.046813 139754401052480 deprecation.py:506] From <ipython-input-7-77f0e54e6021>:40: calling dropout (from tensorflow.python.ops.nn_ops) with keep_prob is deprecated and will be removed in a future version.\n",
      "Instructions for updating:\n",
      "Please use `rate` instead of `keep_prob`. Rate should be set to `rate = 1 - keep_prob`.\n",
      "W1022 06:08:59.454290 139754401052480 deprecation.py:506] From /home/enick/venv_python3/lib/python3.6/site-packages/tensorflow/python/ops/init_ops.py:1251: calling VarianceScaling.__init__ (from tensorflow.python.ops.init_ops) with dtype is deprecated and will be removed in a future version.\n",
      "Instructions for updating:\n",
      "Call initializer instance with the dtype argument instead of passing it to the constructor\n",
      "W1022 06:08:59.695197 139754401052480 deprecation.py:323] From /home/enick/venv_python3/lib/python3.6/site-packages/tensorflow/python/ops/nn_impl.py:180: add_dispatch_support.<locals>.wrapper (from tensorflow.python.ops.array_ops) is deprecated and will be removed in a future version.\n",
      "Instructions for updating:\n",
      "Use tf.where in 2.0, which has the same broadcast rule as np.where\n"
     ]
    }
   ],
   "source": [
    "all_ops = {}\n",
    "def encode(data, num_outputs, stride, relu=True, norm=True):\n",
    "    d = tf.nn.leaky_relu(data)\n",
    "    all_ops[d.name] = d\n",
    "    d = tf.layers.Conv2D(\n",
    "            num_outputs,\n",
    "            (5, 5),\n",
    "            strides=stride,\n",
    "            padding='SAME',\n",
    "            kernel_initializer=tf.random_normal_initializer(stddev=0.02)\n",
    "        )(d)\n",
    "    all_ops[d.name] = d\n",
    "    if norm:\n",
    "        d = tf.layers.batch_normalization(\n",
    "            d,\n",
    "            momentum=0.9,\n",
    "            epsilon=1e-5\n",
    "        )\n",
    "        all_ops[d.name] = d\n",
    "    return d\n",
    "\n",
    "\n",
    "def decode(data, num_outputs, stride, norm=True, dropout=False):\n",
    "    d = tf.nn.leaky_relu(data)\n",
    "    d = tf.layers.Conv2DTranspose(\n",
    "            num_outputs,\n",
    "            (5, 5),\n",
    "            strides=stride,\n",
    "            padding='SAME',\n",
    "            kernel_initializer=tf.random_normal_initializer(stddev=0.02)\n",
    "        )(d)\n",
    "    if norm:\n",
    "        d = tf.layers.batch_normalization(\n",
    "            d,\n",
    "            momentum=0.9,\n",
    "            epsilon=1e-5\n",
    "        )\n",
    "\n",
    "    if dropout:\n",
    "        d = tf.nn.dropout(d, keep_prob=0.5)\n",
    "    return d\n",
    "\n",
    "    \n",
    "def generator(data):\n",
    "    with tf.variable_scope(\"generator\"):\n",
    "        enc_1 = encode(data, DF_DIM, 2, relu=False, norm=False)      # 128 x 128 x 64\n",
    "        enc_2 = encode(enc_1, DF_DIM * 2, 2)  # 64 x 64 x 128\n",
    "        enc_3 = encode(enc_2, DF_DIM * 4, 2)  # 32 x 32 x 256\n",
    "        enc_4 = encode(enc_3, DF_DIM * 8, 2)  # 16 x 16 x 512\n",
    "        enc_5 = encode(enc_4, DF_DIM * 8, 2)  # 8 x 8 x 512\n",
    "        enc_6 = encode(enc_5, DF_DIM * 8, 2)  # 4 x 4 x 512\n",
    "        enc_7 = encode(enc_6, DF_DIM * 8, 2)  # 2 x 2 x 512\n",
    "        enc_8 = encode(enc_7, DF_DIM * 8, 2)  # 1 x 1 x 512\n",
    "\n",
    "        dec_7 = decode(enc_8, DF_DIM * 8, 2)  # 2 x 2 x 512\n",
    "\n",
    "        dec_6 = decode(tf.concat([dec_7, enc_7], 3), DF_DIM * 8, 2, dropout=True)  # 4 x 4 x 512\n",
    "        dec_5 = decode(tf.concat([dec_6, enc_6], 3), DF_DIM * 8, 2, dropout=True)  # 8 x 8 x 512\n",
    "        dec_4 = decode(tf.concat([dec_5, enc_5], 3), DF_DIM * 8, 2)  # 16 x 16 x 512\n",
    "        dec_3 = decode(tf.concat([dec_4, enc_4], 3), DF_DIM * 4, 2)  # 32 x 32 x 256\n",
    "        dec_2 = decode(tf.concat([dec_3, enc_3], 3), DF_DIM * 2, 2)  # 64 x 64 x 128\n",
    "        dec_1 = decode(tf.concat([dec_2, enc_2], 3), DF_DIM    , 2)  # 128 x 128 x 64\n",
    "        result = decode(tf.concat([dec_1, enc_1], 3), 1, 2, norm=False)  # 256 x 256 x 1\n",
    "    \n",
    "    train_vars = tf.get_collection(tf.GraphKeys.TRAINABLE_VARIABLES, \"generator\")\n",
    "    return result, train_vars\n",
    "\n",
    "def discriminator(data, reuse=False):\n",
    "    conv = data\n",
    "    with tf.variable_scope(\"discriminator\", reuse=reuse):\n",
    "        conv = encode(conv, DF_DIM, 2)\n",
    "        conv = encode(conv, DF_DIM * 2, 2)\n",
    "        conv = encode(conv, DF_DIM * 4, 2)\n",
    "        conv = encode(conv, DF_DIM * 8, 1)\n",
    "\n",
    "        hidden = tf.layers.Flatten()(conv)\n",
    "        logits = tf.layers.Dense(2)(hidden)\n",
    "        \n",
    "    train_vars = tf.get_collection(tf.GraphKeys.TRAINABLE_VARIABLES, \"discriminator\")\n",
    "    return logits, train_vars\n",
    "\n",
    "\n",
    "graph = tf.Graph()\n",
    "with graph.as_default():\n",
    "    tf_map_files = tf.placeholder(tf.string, name=\"map_files_placeholder\", shape=[batch_size])\n",
    "    tf_sat_files = tf.placeholder(tf.string, name=\"sat_files_placeholder\", shape=[batch_size])\n",
    "    \n",
    "    map_imgs = tf.stack([read_img(path, 'png') for path in tf.unstack(tf_map_files)])\n",
    "    print(\"Map imgs, shape\", map_imgs.shape)\n",
    "    sat_imgs = tf.stack([read_img(path, 'jpg') for path in tf.unstack(tf_sat_files)])\n",
    "    print(\"Sat imgs, shape\", sat_imgs.shape)\n",
    "\n",
    "    sat_imgs = tf.reshape(sat_imgs, [batch_size, IMG_SIZE, IMG_SIZE, 3])\n",
    "    fake_map_imgs, generator_vars = generator(\n",
    "        sat_imgs\n",
    "    )\n",
    "    \n",
    "    tf_data_gt = tf.reshape(tf.concat([\n",
    "            map_imgs,\n",
    "            sat_imgs\n",
    "        ],3), [batch_size, IMG_SIZE, IMG_SIZE, 4])\n",
    "    tf_data_fake = tf.reshape(tf.concat([\n",
    "            fake_map_imgs,\n",
    "            sat_imgs\n",
    "        ],3), [batch_size, IMG_SIZE, IMG_SIZE, 4])\n",
    "  \n",
    "  \n",
    "    cat_gt = tf.constant(0, shape=[batch_size])\n",
    "    labels_gt = tf.one_hot(cat_gt, depth=2)\n",
    "    cat_fake = tf.constant(1, shape=[batch_size])\n",
    "    labels_fake = tf.one_hot(cat_fake, depth=2)\n",
    "    tf_labels = tf.concat([labels_gt, labels_fake], axis=0)\n",
    "        \n",
    "    d_logits_gt, discriminator_vars = discriminator(tf_data_gt, reuse=False)\n",
    "    d_logits_fake, _ = discriminator(tf_data_fake, reuse=True)\n",
    "    \n",
    "    d_logits = tf.concat([d_logits_gt, d_logits_fake], axis=0)\n",
    "    \n",
    "    d_loss = tf.reduce_mean(\n",
    "        tf.nn.sigmoid_cross_entropy_with_logits(\n",
    "            logits=d_logits, labels=tf_labels))\n",
    "    d_loss_s = tf.summary.scalar('d_loss', d_loss)\n",
    "    d_global_step = tf.Variable(0)\n",
    "    d_optimizer = tf.train.AdamOptimizer(0.0002, beta1=0.5, beta2=0.999).minimize(\n",
    "        d_loss, global_step=d_global_step, var_list=discriminator_vars)\n",
    "    \n",
    "    l1_loss = tf.reduce_mean(\n",
    "        tf.math.abs(\n",
    "            fake_map_imgs - map_imgs\n",
    "        )\n",
    "    )\n",
    "    \n",
    "    l1_loss_s = tf.summary.scalar(\"l1_loss\", l1_loss)\n",
    "    \n",
    "    g_loss_d = tf.reduce_mean(\n",
    "        tf.nn.sigmoid_cross_entropy_with_logits(\n",
    "            logits=d_logits_fake,\n",
    "            labels=labels_gt\n",
    "        ))\n",
    "    g_loss_d_s = tf.summary.scalar(\"g_loss_d\", g_loss_d)\n",
    "    g_loss = g_loss_d + l1_weight * l1_loss\n",
    "    #g_loss = l2_loss\n",
    "    g_loss_s = tf.summary.scalar(\"g_loss\", g_loss)\n",
    "    \n",
    "    g_global_step = tf.Variable(0)\n",
    "    g_optimizer = tf.train.AdamOptimizer(0.0002, beta1=0.5).minimize(\n",
    "        g_loss, global_step=g_global_step, var_list=generator_vars)\n",
    "    \n",
    "    prediction = tf.nn.softmax(d_logits)\n",
    "    #correct = tf.nn.in_top_k(d_logits, tf.math.argmax(tf_labels, 1), 1)\n",
    "    #count_correct = tf.count_nonzero(correct)\n",
    "    #acc_s = tf.summary.scalar(\"acc\", count_correct/batch_size)\n",
    "    \n",
    "    merged = tf.summary.merge([g_loss_s, g_loss_d_s, l1_loss_s, d_loss_s])\n",
    "    \n",
    "    fmi_s = tf.summary.image(\"fake_map_imgs\", fake_map_imgs)\n",
    "    mi_s = tf.summary.image(\"map_imgs\", map_imgs)\n",
    "    si_s = tf.summary.image(\"sat_imgs\", sat_imgs)\n",
    "    merged_images = tf.summary.merge((fmi_s, mi_s, si_s))\n",
    "    \n",
    "    #check_op = tf.add_check_numerics_ops()\n",
    "    saver = tf.train.Saver()"
   ]
  },
  {
   "cell_type": "code",
   "execution_count": 8,
   "metadata": {},
   "outputs": [],
   "source": [
    "def doEpoch(session, epoch, writer):\n",
    "    train_dloss = 0.0\n",
    "    train_gloss = 0.0\n",
    "    train_correct = 0\n",
    "    num_batches = (len(train_map_paths) - batch_size) // batch_size + 1\n",
    "    \n",
    "    l = list(zip(train_map_paths, train_sat_paths))\n",
    "    random.shuffle(l)\n",
    "    train_map_paths_shuffled, train_sat_paths_shuffled = zip(*l)\n",
    "    \n",
    "    for step in range(num_batches):\n",
    "        offset = (step * batch_size) % (len(train_map_paths) - batch_size + 1)\n",
    "        feed_dict={\n",
    "            tf_map_files: train_map_paths_shuffled[offset:offset+batch_size],\n",
    "            tf_sat_files: train_sat_paths_shuffled[offset:offset+batch_size]\n",
    "        }\n",
    "\n",
    "        try:\n",
    "            _,gl, dl, ms, gs = session.run([d_optimizer, g_loss, d_loss, merged, d_global_step], feed_dict=feed_dict)\n",
    "            writer.add_summary(ms, gs)\n",
    "\n",
    "            _,gl, dl, ms, gs = session.run([g_optimizer, g_loss, d_loss, merged, g_global_step], feed_dict=feed_dict)\n",
    "            train_dloss += dl\n",
    "            train_gloss += gl\n",
    "        \n",
    "            writer.add_summary(ms, gs)\n",
    "        except:\n",
    "            print(step)\n",
    "            print(feed_dict)\n",
    "            raise\n",
    "        if step % 30 == 3:\n",
    "            preview_offset = 1000\n",
    "            feed_dict={\n",
    "                tf_map_files: train_map_paths[preview_offset:preview_offset+batch_size],\n",
    "                tf_sat_files: train_sat_paths[preview_offset:preview_offset+batch_size]\n",
    "            }\n",
    "\n",
    "            mis, = session.run([merged_images],feed_dict)\n",
    "            writer.add_summary(mis, gs)\n",
    "\n",
    "    return train_dloss / num_batches, train_gloss / num_batches\n",
    "    \n",
    "tf.logging.set_verbosity(tf.logging.INFO)\n",
    "tf.debugging.set_log_device_placement(True)"
   ]
  },
  {
   "cell_type": "code",
   "execution_count": 9,
   "metadata": {},
   "outputs": [],
   "source": [
    "EPOCHS = 30\n",
    "\n",
    "run_id=\"20\"\n",
    "checkpoints_path = \"checkpoints/checkpoint_{}\".format(run_id)"
   ]
  },
  {
   "cell_type": "code",
   "execution_count": null,
   "metadata": {
    "scrolled": false
   },
   "outputs": [
    {
     "name": "stdout",
     "output_type": "stream",
     "text": [
      "2019-10-22 06:09:05.785122 Initialized.\n"
     ]
    },
    {
     "data": {
      "application/vnd.jupyter.widget-view+json": {
       "model_id": "7ed485b0431242aba71ae82d997fd873",
       "version_major": 2,
       "version_minor": 0
      },
      "text/plain": [
       "HBox(children=(IntProgress(value=0, max=30), HTML(value='')))"
      ]
     },
     "metadata": {},
     "output_type": "display_data"
    },
    {
     "name": "stdout",
     "output_type": "stream",
     "text": [
      "2019-10-22 06:09:53.255093 0 dloss: 18.613449, gloss: 8904.103599\n",
      "2019-10-22 06:10:42.393006 1 dloss: 1.175637, gloss: 3872.144743\n",
      "2019-10-22 06:11:30.688629 2 dloss: 0.344482, gloss: 3366.060585\n",
      "2019-10-22 06:12:19.188809 3 dloss: 0.740353, gloss: 3240.755185\n",
      "2019-10-22 06:13:07.475650 4 dloss: 0.328196, gloss: 3062.717372\n",
      "2019-10-22 06:13:56.223586 5 dloss: 0.418898, gloss: 2792.768137\n",
      "2019-10-22 06:14:45.732649 6 dloss: 0.320171, gloss: 2810.261963\n"
     ]
    }
   ],
   "source": [
    "train_writer = tf.summary.FileWriter(\"./summary/generator_{}\".format(run_id), graph=graph)\n",
    "\n",
    "with tf.Session(graph=graph) as session:\n",
    "    #with tf_debug.TensorBoardDebugWrapperSession(session, \"localhost:8008\") as session:\n",
    "        #saver.recover_last_checkpoints(checkpoints_path)\n",
    "#         try:\n",
    "#             print(\"Restoring from previous run...\", flush=True)\n",
    "#             saver.restore(session, checkpoints_path)\n",
    "#         except:\n",
    "#             print(\"Initializing variables...\", flush=True)\n",
    "        tf.global_variables_initializer().run()\n",
    "\n",
    "        print(datetime.now(), \"Initialized.\", flush=True)\n",
    "        for epoch in tqdm_notebook(range(EPOCHS)):\n",
    "            dloss, gloss = doEpoch(session, epoch, train_writer)\n",
    "            if epoch % 1 == 0:\n",
    "                print(datetime.now(), \"{} dloss: {:.6f}, gloss: {:.6f}\".format(\n",
    "                    epoch, dloss, gloss), flush=True)\n",
    "            saver.save(session, checkpoints_path)\n",
    "        print(datetime.now(), \"{} dloss: {:.6f}, gloss: {:.6f}\".format(\n",
    "                    epoch, dloss, gloss), flush=True)"
   ]
  },
  {
   "cell_type": "code",
   "execution_count": 10,
   "metadata": {},
   "outputs": [
    {
     "name": "stderr",
     "output_type": "stream",
     "text": [
      "W1019 07:16:51.938389 139746396202816 deprecation.py:323] From /home/enick/venv_python3/lib/python3.6/site-packages/tensorflow/python/training/saver.py:1276: checkpoint_exists (from tensorflow.python.training.checkpoint_management) is deprecated and will be removed in a future version.\n",
      "Instructions for updating:\n",
      "Use standard file APIs to check for files with this prefix.\n",
      "I1019 07:16:51.939760 139746396202816 saver.py:1280] Restoring parameters from checkpoints/checkpoint_6\n"
     ]
    }
   ],
   "source": [
    "with tf.Session(graph=graph) as session: \n",
    "    saver.restore(session, checkpoints_path))\n",
    "\n",
    "    offset = 0\n",
    "    feed_dict={\n",
    "        tf_map_files: train_map_paths[offset:offset+batch_size],\n",
    "        tf_sat_files: train_sat_paths[offset:offset+batch_size],\n",
    "    }\n",
    "    generated = session.run([fake_map_imgs], feed_dict=feed_dict)"
   ]
  },
  {
   "cell_type": "code",
   "execution_count": 10,
   "metadata": {},
   "outputs": [
    {
     "data": {
      "text/plain": [
       "dict_keys(['generator/LeakyRelu:0', 'generator/conv2d/BiasAdd:0', 'generator/LeakyRelu_1:0', 'generator/conv2d_1/BiasAdd:0', 'generator/batch_normalization/FusedBatchNorm:0', 'generator/LeakyRelu_2:0', 'generator/conv2d_2/BiasAdd:0', 'generator/batch_normalization_1/FusedBatchNorm:0', 'generator/LeakyRelu_3:0', 'generator/conv2d_3/BiasAdd:0', 'generator/batch_normalization_2/FusedBatchNorm:0', 'generator/LeakyRelu_4:0', 'generator/conv2d_4/BiasAdd:0', 'generator/batch_normalization_3/FusedBatchNorm:0', 'generator/LeakyRelu_5:0', 'generator/conv2d_5/BiasAdd:0', 'generator/batch_normalization_4/FusedBatchNorm:0', 'generator/LeakyRelu_6:0', 'generator/conv2d_6/BiasAdd:0', 'generator/batch_normalization_5/FusedBatchNorm:0', 'generator/LeakyRelu_7:0', 'generator/conv2d_7/BiasAdd:0', 'generator/batch_normalization_6/FusedBatchNorm:0', 'discriminator/LeakyRelu:0', 'discriminator/conv2d/BiasAdd:0', 'discriminator/batch_normalization/FusedBatchNorm:0', 'discriminator/LeakyRelu_1:0', 'discriminator/conv2d_1/BiasAdd:0', 'discriminator/batch_normalization_1/FusedBatchNorm:0', 'discriminator/LeakyRelu_2:0', 'discriminator/conv2d_2/BiasAdd:0', 'discriminator/batch_normalization_2/FusedBatchNorm:0', 'discriminator/LeakyRelu_3:0', 'discriminator/conv2d_3/BiasAdd:0', 'discriminator/batch_normalization_3/FusedBatchNorm:0', 'discriminator_1/LeakyRelu:0', 'discriminator_1/conv2d/BiasAdd:0', 'discriminator_1/batch_normalization/FusedBatchNorm:0', 'discriminator_1/LeakyRelu_1:0', 'discriminator_1/conv2d_1/BiasAdd:0', 'discriminator_1/batch_normalization_1/FusedBatchNorm:0', 'discriminator_1/LeakyRelu_2:0', 'discriminator_1/conv2d_2/BiasAdd:0', 'discriminator_1/batch_normalization_2/FusedBatchNorm:0', 'discriminator_1/LeakyRelu_3:0', 'discriminator_1/conv2d_3/BiasAdd:0', 'discriminator_1/batch_normalization_3/FusedBatchNorm:0'])"
      ]
     },
     "execution_count": 10,
     "metadata": {},
     "output_type": "execute_result"
    }
   ],
   "source": [
    "all_ops.keys()"
   ]
  },
  {
   "cell_type": "code",
   "execution_count": 17,
   "metadata": {},
   "outputs": [],
   "source": [
    "a = tf.constant(0, shape=[10])\n",
    "b = tf.constant(1, shape=[10])\n",
    "c = tf.concat([a, b], axis=0)\n",
    "d = tf.one_hot(c, 2)"
   ]
  },
  {
   "cell_type": "code",
   "execution_count": 22,
   "metadata": {},
   "outputs": [
    {
     "data": {
      "text/plain": [
       "<matplotlib.image.AxesImage at 0x7f75a85b0b00>"
      ]
     },
     "execution_count": 22,
     "metadata": {},
     "output_type": "execute_result"
    },
    {
     "data": {
      "image/png": "[encoded data removed]",
      "text/plain": [
       "<Figure size 432x288 with 1 Axes>"
      ]
     },
     "metadata": {
      "needs_background": "light"
     },
     "output_type": "display_data"
    }
   ],
   "source": [
    "plt.imshow(cv2.imread(train_map_paths[1002]))"
   ]
  },
  {
   "cell_type": "code",
   "execution_count": 24,
   "metadata": {},
   "outputs": [
    {
     "data": {
      "text/plain": [
       "<matplotlib.image.AxesImage at 0x7f75a82e8cc0>"
      ]
     },
     "execution_count": 24,
     "metadata": {},
     "output_type": "execute_result"
    },
    {
     "data": {
      "image/png": "[encoded data removed]",
      "text/plain": [
       "<Figure size 432x288 with 1 Axes>"
      ]
     },
     "metadata": {
      "needs_background": "light"
     },
     "output_type": "display_data"
    }
   ],
   "source": [
    "plt.imshow(cv2.imread(train_sat_paths[1001]))"
   ]
  },
  {
   "cell_type": "code",
   "execution_count": null,
   "metadata": {},
   "outputs": [],
   "source": []
  }
 ],
 "metadata": {
  "kernelspec": {
   "display_name": "Python 3",
   "language": "python",
   "name": "python3"
  },
  "language_info": {
   "codemirror_mode": {
    "name": "ipython",
    "version": 3
   },
   "file_extension": ".py",
   "mimetype": "text/x-python",
   "name": "python",
   "nbconvert_exporter": "python",
   "pygments_lexer": "ipython3",
   "version": "3.6.7"
  }
 },
 "nbformat": 4,
 "nbformat_minor": 1
}
